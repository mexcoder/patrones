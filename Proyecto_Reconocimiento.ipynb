{
  "nbformat": 4,
  "nbformat_minor": 0,
  "metadata": {
    "colab": {
      "name": "Proyecto-Reconocimiento",
      "provenance": []
    },
    "kernelspec": {
      "name": "python3",
      "display_name": "Python 3"
    }
  },
  "cells": [
    {
      "cell_type": "code",
      "metadata": {
        "id": "i3hzL8gzXu_o",
        "colab_type": "code",
        "colab": {}
      },
      "source": [
        "from google.colab import files\n",
        "from sklearn.datasets import fetch_openml\n",
        "import numpy as np\n",
        "from sklearn.neural_network import MLPClassifier\n",
        "from sklearn.model_selection import train_test_split\n",
        "from sklearn.svm import SVC\n",
        "from sklearn.neighbors import KNeighborsClassifier"
      ],
      "execution_count": 16,
      "outputs": []
    },
    {
      "cell_type": "code",
      "metadata": {
        "id": "e6kmCNosX6Zp",
        "colab_type": "code",
        "colab": {}
      },
      "source": [
        "x, y = fetch_openml('PhishingWebsites', version=1, return_X_y=True)"
      ],
      "execution_count": 17,
      "outputs": []
    },
    {
      "cell_type": "code",
      "metadata": {
        "id": "W5XGLkXnX6l2",
        "colab_type": "code",
        "colab": {
          "base_uri": "https://localhost:8080/",
          "height": 35
        },
        "outputId": "fbe0089c-cc24-4853-84a1-ec946a6bfd47"
      },
      "source": [
        "print(x.shape, y.shape)"
      ],
      "execution_count": 18,
      "outputs": [
        {
          "output_type": "stream",
          "text": [
            "(11055, 30) (11055,)\n"
          ],
          "name": "stdout"
        }
      ]
    },
    {
      "cell_type": "code",
      "metadata": {
        "id": "TKCmtOsXjMDS",
        "colab_type": "code",
        "colab": {
          "base_uri": "https://localhost:8080/",
          "height": 72
        },
        "outputId": "48b93df4-f65c-4f20-9e7b-b0b01625ed23"
      },
      "source": [
        "X_train, X_test, y_train, y_test = train_test_split(x, y, stratify=y,\n",
        "                                                     random_state=1)\n",
        "clf = MLPClassifier(random_state=1, max_iter=300).fit(X_train, y_train)\n"
      ],
      "execution_count": 19,
      "outputs": [
        {
          "output_type": "stream",
          "text": [
            "/usr/local/lib/python3.6/dist-packages/sklearn/neural_network/_multilayer_perceptron.py:571: ConvergenceWarning: Stochastic Optimizer: Maximum iterations (300) reached and the optimization hasn't converged yet.\n",
            "  % self.max_iter, ConvergenceWarning)\n"
          ],
          "name": "stderr"
        }
      ]
    },
    {
      "cell_type": "code",
      "metadata": {
        "id": "VLCOTbjckjJG",
        "colab_type": "code",
        "colab": {
          "base_uri": "https://localhost:8080/",
          "height": 35
        },
        "outputId": "d06cdd20-de24-43b5-ae2e-0d5c45013c9c"
      },
      "source": [
        "clf.score(X_test, y_test)"
      ],
      "execution_count": 20,
      "outputs": [
        {
          "output_type": "execute_result",
          "data": {
            "text/plain": [
              "0.9663531114327062"
            ]
          },
          "metadata": {
            "tags": []
          },
          "execution_count": 20
        }
      ]
    },
    {
      "cell_type": "code",
      "metadata": {
        "id": "tCHNPp09lCtr",
        "colab_type": "code",
        "colab": {
          "base_uri": "https://localhost:8080/",
          "height": 505
        },
        "outputId": "ea70a3d8-6a66-4c17-f545-d0731e8c1e3f"
      },
      "source": [
        "print('Train: ', clf.score(X_train, y_train))\n",
        "print('Test: ', clf.score(X_test, y_test))\n",
        "\n",
        "from sklearn.metrics import plot_confusion_matrix, classification_report\n",
        "print('Clasification Report: \\n',\n",
        "      classification_report(y_test, clf.predict(X_test)))\n",
        "\n",
        "plot_confusion_matrix(clf, X_test, y_test)"
      ],
      "execution_count": 21,
      "outputs": [
        {
          "output_type": "stream",
          "text": [
            "Train:  0.9854058617778314\n",
            "Test:  0.9663531114327062\n",
            "Clasification Report: \n",
            "               precision    recall  f1-score   support\n",
            "\n",
            "          -1       0.97      0.95      0.96      1225\n",
            "           1       0.96      0.98      0.97      1539\n",
            "\n",
            "    accuracy                           0.97      2764\n",
            "   macro avg       0.97      0.96      0.97      2764\n",
            "weighted avg       0.97      0.97      0.97      2764\n",
            "\n"
          ],
          "name": "stdout"
        },
        {
          "output_type": "execute_result",
          "data": {
            "text/plain": [
              "<sklearn.metrics._plot.confusion_matrix.ConfusionMatrixDisplay at 0x7fe627a0d518>"
            ]
          },
          "metadata": {
            "tags": []
          },
          "execution_count": 21
        },
        {
          "output_type": "display_data",
          "data": {
            "image/png": "[encoded data removed]",
            "text/plain": [
              "<Figure size 432x288 with 2 Axes>"
            ]
          },
          "metadata": {
            "tags": [],
            "needs_background": "light"
          }
        }
      ]
    },
    {
      "cell_type": "code",
      "metadata": {
        "id": "KJsjt2-ug_vx",
        "colab_type": "code",
        "colab": {
          "base_uri": "https://localhost:8080/",
          "height": 505
        },
        "outputId": "bab30722-5192-4262-fdb6-2c7f6b4d5244"
      },
      "source": [
        "modelSVM = SVC(gamma=1, C=10)\n",
        "modelSVM.fit(X_train, y_train)\n",
        "score_train = modelSVM.score(X_train, y_train)\n",
        "score_test = modelSVM.score(X_test, y_test)\n",
        "print('Train: ', score_train)\n",
        "print('Test: ', score_test)\n",
        "print('Clasification Report: \\n',\n",
        "      classification_report(y_test, modelSVM.predict(X_test)))\n",
        "plot_confusion_matrix(modelSVM, X_test, y_test)"
      ],
      "execution_count": 22,
      "outputs": [
        {
          "output_type": "stream",
          "text": [
            "Train:  0.991074659269087\n",
            "Test:  0.9634587554269175\n",
            "Clasification Report: \n",
            "               precision    recall  f1-score   support\n",
            "\n",
            "          -1       0.97      0.95      0.96      1225\n",
            "           1       0.96      0.97      0.97      1539\n",
            "\n",
            "    accuracy                           0.96      2764\n",
            "   macro avg       0.96      0.96      0.96      2764\n",
            "weighted avg       0.96      0.96      0.96      2764\n",
            "\n"
          ],
          "name": "stdout"
        },
        {
          "output_type": "execute_result",
          "data": {
            "text/plain": [
              "<sklearn.metrics._plot.confusion_matrix.ConfusionMatrixDisplay at 0x7fe627a0d9b0>"
            ]
          },
          "metadata": {
            "tags": []
          },
          "execution_count": 22
        },
        {
          "output_type": "display_data",
          "data": {
            "image/png": "[encoded data removed]",
            "text/plain": [
              "<Figure size 432x288 with 2 Axes>"
            ]
          },
          "metadata": {
            "tags": [],
            "needs_background": "light"
          }
        }
      ]
    },
    {
      "cell_type": "code",
      "metadata": {
        "id": "O-2tHO-ziJK-",
        "colab_type": "code",
        "colab": {
          "base_uri": "https://localhost:8080/",
          "height": 505
        },
        "outputId": "c37aeb72-62b8-40d7-b553-7d4b5e8185e3"
      },
      "source": [
        "modelKN = KNeighborsClassifier(3)\n",
        "modelKN.fit(X_train, y_train)\n",
        "score_train = modelKN.score(X_train, y_train)\n",
        "score_test = modelKN.score(X_test, y_test)\n",
        "print('Train: ', score_train)\n",
        "print('Test: ', score_test)\n",
        "print('Clasification Report: \\n',\n",
        "      classification_report(y_test, modelKN.predict(X_test)))\n",
        "plot_confusion_matrix(modelKN, X_test, y_test)"
      ],
      "execution_count": 23,
      "outputs": [
        {
          "output_type": "stream",
          "text": [
            "Train:  0.9788927752985165\n",
            "Test:  0.951519536903039\n",
            "Clasification Report: \n",
            "               precision    recall  f1-score   support\n",
            "\n",
            "          -1       0.95      0.93      0.94      1225\n",
            "           1       0.95      0.96      0.96      1539\n",
            "\n",
            "    accuracy                           0.95      2764\n",
            "   macro avg       0.95      0.95      0.95      2764\n",
            "weighted avg       0.95      0.95      0.95      2764\n",
            "\n"
          ],
          "name": "stdout"
        },
        {
          "output_type": "execute_result",
          "data": {
            "text/plain": [
              "<sklearn.metrics._plot.confusion_matrix.ConfusionMatrixDisplay at 0x7fe627900470>"
            ]
          },
          "metadata": {
            "tags": []
          },
          "execution_count": 23
        },
        {
          "output_type": "display_data",
          "data": {
            "image/png": "[encoded data removed]",
            "text/plain": [
              "<Figure size 432x288 with 2 Axes>"
            ]
          },
          "metadata": {
            "tags": [],
            "needs_background": "light"
          }
        }
      ]
    }
  ]
}